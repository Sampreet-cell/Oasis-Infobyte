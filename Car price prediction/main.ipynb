{
 "cells": [
  {
   "cell_type": "code",
   "execution_count": 1,
   "id": "3b5b11ec-b9d9-4816-9785-093f5352c72e",
   "metadata": {},
   "outputs": [],
   "source": [
    "import pandas as pd\n",
    "import matplotlib.pyplot as plt\n",
    "import xgboost as xgb\n",
    "from sklearn.model_selection import train_test_split\n",
    "from sklearn.metrics import mean_squared_error, r2_score\n",
    "from sklearn.preprocessing import LabelEncoder"
   ]
  },
  {
   "cell_type": "code",
   "execution_count": 2,
   "id": "6e22cdbe-2c4e-4821-958a-3f72cf1f10e3",
   "metadata": {},
   "outputs": [],
   "source": [
    "data = pd.read_csv('CarPrice.csv')"
   ]
  },
  {
   "cell_type": "markdown",
   "id": "7c72dc6e-d9b5-4739-8c1b-25fb46922858",
   "metadata": {},
   "source": [
    "# Data preprocessing"
   ]
  },
  {
   "cell_type": "code",
   "execution_count": 3,
   "id": "6f8e82a6-53e8-4da0-8b31-143306f34fac",
   "metadata": {},
   "outputs": [],
   "source": [
    "data.dropna(inplace=True)"
   ]
  },
  {
   "cell_type": "code",
   "execution_count": 4,
   "id": "877a8b1c-2401-458d-a5e2-a9a3a8f2c281",
   "metadata": {},
   "outputs": [],
   "source": [
    "data.drop_duplicates(inplace=True)"
   ]
  },
  {
   "cell_type": "markdown",
   "id": "ec88918c-b16c-4e03-9c08-102fe93d1919",
   "metadata": {},
   "source": [
    "# Feature engineering"
   ]
  },
  {
   "cell_type": "code",
   "execution_count": 5,
   "id": "e13660ff-f0e7-426c-b048-1813bf777c25",
   "metadata": {},
   "outputs": [],
   "source": [
    "data['CarBrand'] = data['CarName'].apply(lambda x: x.split()[0])\n",
    "data.drop('CarName', axis=1, inplace=True)"
   ]
  },
  {
   "cell_type": "code",
   "execution_count": 6,
   "id": "d4b16ff3-18d3-4c5b-83ca-f1dfd1a95278",
   "metadata": {},
   "outputs": [],
   "source": [
    "label_encoder = LabelEncoder()\n",
    "data['fueltype'] = label_encoder.fit_transform(data['fueltype'])\n",
    "data['aspiration'] = label_encoder.fit_transform(data['aspiration'])\n",
    "data['doornumber'] = label_encoder.fit_transform(data['doornumber'])\n",
    "data['carbody'] = label_encoder.fit_transform(data['carbody'])\n",
    "data['drivewheel'] = label_encoder.fit_transform(data['drivewheel'])\n",
    "data['enginelocation'] = label_encoder.fit_transform(data['enginelocation'])\n",
    "data['enginetype'] = label_encoder.fit_transform(data['enginetype'])\n",
    "data['cylindernumber'] = label_encoder.fit_transform(data['cylindernumber'])\n",
    "data['fuelsystem'] = label_encoder.fit_transform(data['fuelsystem'])\n",
    "data['CarBrand'] = label_encoder.fit_transform(data['CarBrand'])"
   ]
  },
  {
   "cell_type": "markdown",
   "id": "880af379-9efa-4111-bdd0-11921c457e77",
   "metadata": {},
   "source": [
    "# Splitting the data"
   ]
  },
  {
   "cell_type": "code",
   "execution_count": 7,
   "id": "4b165e91-b0d7-4bb0-a10e-e0c1cf58492c",
   "metadata": {},
   "outputs": [],
   "source": [
    "X = data.drop('price', axis=1)  # Features\n",
    "y = data['price']"
   ]
  },
  {
   "cell_type": "code",
   "execution_count": 8,
   "id": "e949cfd9-c785-4313-a8b3-880b113b6e3c",
   "metadata": {},
   "outputs": [],
   "source": [
    "X_train, X_test, y_train, y_test = train_test_split(X, y, test_size=0.2, random_state=42)"
   ]
  },
  {
   "cell_type": "markdown",
   "id": "70f574e6-9fde-4974-8a8c-96c7583c37c2",
   "metadata": {},
   "source": [
    "# Model training with XGBoost"
   ]
  },
  {
   "cell_type": "code",
   "execution_count": 9,
   "id": "35387823-3542-4cbd-88b3-ef4500a63c8e",
   "metadata": {},
   "outputs": [
    {
     "data": {
      "text/plain": [
       "XGBRegressor(base_score=None, booster=None, callbacks=None,\n",
       "             colsample_bylevel=None, colsample_bynode=None,\n",
       "             colsample_bytree=None, early_stopping_rounds=None,\n",
       "             enable_categorical=False, eval_metric=None, feature_types=None,\n",
       "             gamma=None, gpu_id=None, grow_policy=None, importance_type=None,\n",
       "             interaction_constraints=None, learning_rate=None, max_bin=None,\n",
       "             max_cat_threshold=None, max_cat_to_onehot=None,\n",
       "             max_delta_step=None, max_depth=None, max_leaves=None,\n",
       "             min_child_weight=None, missing=nan, monotone_constraints=None,\n",
       "             n_estimators=100, n_jobs=None, num_parallel_tree=None,\n",
       "             predictor=None, random_state=42, ...)"
      ]
     },
     "execution_count": 9,
     "metadata": {},
     "output_type": "execute_result"
    }
   ],
   "source": [
    "xgb_model = xgb.XGBRegressor(objective='reg:squarederror', random_state=42)\n",
    "xgb_model.fit(X_train, y_train)"
   ]
  },
  {
   "cell_type": "markdown",
   "id": "4dd52677-23cd-4535-9e41-f8114662a774",
   "metadata": {},
   "source": [
    "# Model evaluation"
   ]
  },
  {
   "cell_type": "code",
   "execution_count": 10,
   "id": "a3bb8528-44c3-4301-bf84-91eb5a8f10a9",
   "metadata": {},
   "outputs": [
    {
     "name": "stdout",
     "output_type": "stream",
     "text": [
      "Mean Squared Error: 5835704.748973153\n",
      "Root Mean Squared Error: 2415.720337492143\n",
      "R-squared: 0.9260779387223118\n"
     ]
    }
   ],
   "source": [
    "y_pred = xgb_model.predict(X_test)\n",
    "mse = mean_squared_error(y_test, y_pred)\n",
    "rmse = (mse) ** 0.5\n",
    "r2 = r2_score(y_test, y_pred)\n",
    "print(f\"Mean Squared Error: {mse}\")\n",
    "print(f\"Root Mean Squared Error: {rmse}\")\n",
    "print(f\"R-squared: {r2}\")"
   ]
  },
  {
   "cell_type": "markdown",
   "id": "a8c24de3-4bc0-4908-ba26-a96813bc6566",
   "metadata": {},
   "source": [
    "# Actual price vs predicted price visualization"
   ]
  },
  {
   "cell_type": "code",
   "execution_count": 11,
   "id": "4d3bb9ff-96f5-4de7-8af4-668e8a6c41b8",
   "metadata": {},
   "outputs": [
    {
     "data": {
      "image/png": "[encoded data removed]",
      "text/plain": [
       "<Figure size 576x432 with 1 Axes>"
      ]
     },
     "metadata": {
      "needs_background": "light"
     },
     "output_type": "display_data"
    }
   ],
   "source": [
    "plt.figure(figsize=(8, 6))\n",
    "plt.scatter(y_test, y_pred, alpha=0.6)\n",
    "plt.plot([min(y_test), max(y_test)], [min(y_test), max(y_test)], 'r--', lw=2)\n",
    "plt.xlabel('Actual Price')\n",
    "plt.ylabel('Predicted Price')\n",
    "plt.title('Actual Price vs Predicted Price')\n",
    "plt.show()"
   ]
  },
  {
   "cell_type": "markdown",
   "id": "6f88940a-cfb4-41a0-a021-642cb6b9d7f6",
   "metadata": {},
   "source": [
    "# Feature importance"
   ]
  },
  {
   "cell_type": "code",
   "execution_count": 12,
   "id": "10c02c29-7b8b-4b47-bbe3-3ee54bb194a1",
   "metadata": {},
   "outputs": [],
   "source": [
    "feature_importance = xgb_model.feature_importances_\n",
    "feature_names = X_train.columns"
   ]
  },
  {
   "cell_type": "code",
   "execution_count": 14,
   "id": "e42bbc6c-9a08-488e-9f14-dafc848202ca",
   "metadata": {},
   "outputs": [
    {
     "data": {
      "image/png": "[encoded data removed]",
      "text/plain": [
       "<Figure size 720x432 with 1 Axes>"
      ]
     },
     "metadata": {
      "needs_background": "light"
     },
     "output_type": "display_data"
    }
   ],
   "source": [
    "plt.figure(figsize=(10, 6))\n",
    "plt.barh(feature_names, feature_importance)\n",
    "plt.xlabel('Feature Importance')\n",
    "plt.ylabel('Features')\n",
    "plt.title('Feature Importance')\n",
    "plt.show()"
   ]
  },
  {
   "cell_type": "markdown",
   "id": "c4365ad5-ccd6-4f42-9b7a-b0984184cbad",
   "metadata": {},
   "source": [
    "# Save the predicted values"
   ]
  },
  {
   "cell_type": "code",
   "execution_count": 16,
   "id": "b54e906f-17e2-42ad-939c-991952075a2f",
   "metadata": {},
   "outputs": [],
   "source": [
    "predictions_df = pd.DataFrame({'Actual Price': y_test, 'Predicted Price': y_pred})\n",
    "predictions_df.to_csv('CarPricePredictions.csv', index=False)"
   ]
  },
  {
   "cell_type": "code",
   "execution_count": null,
   "id": "d8efad9e-b27b-4d9b-8732-2f3eaa31cd05",
   "metadata": {},
   "outputs": [],
   "source": []
  }
 ],
 "metadata": {
  "kernelspec": {
   "display_name": "Python 3 (ipykernel)",
   "language": "python",
   "name": "python3"
  },
  "language_info": {
   "codemirror_mode": {
    "name": "ipython",
    "version": 3
   },
   "file_extension": ".py",
   "mimetype": "text/x-python",
   "name": "python",
   "nbconvert_exporter": "python",
   "pygments_lexer": "ipython3",
   "version": "3.9.12"
  }
 },
 "nbformat": 4,
 "nbformat_minor": 5
}
