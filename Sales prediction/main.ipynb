{
 "cells": [
  {
   "cell_type": "code",
   "execution_count": 1,
   "id": "71f0492e-49bd-4ea8-9807-e6b1335b455a",
   "metadata": {},
   "outputs": [],
   "source": [
    "import pandas as pd\n",
    "import xgboost as xgb\n",
    "from sklearn.model_selection import train_test_split\n",
    "from sklearn.metrics import mean_squared_error, r2_score\n",
    "import matplotlib.pyplot as plt"
   ]
  },
  {
   "cell_type": "code",
   "execution_count": 2,
   "id": "66bd57d8-660f-4097-9112-8fcae8e335b3",
   "metadata": {},
   "outputs": [],
   "source": [
    "data = pd.read_csv('Advertising.csv')"
   ]
  },
  {
   "cell_type": "markdown",
   "id": "15c1a8c1-d947-46f9-b040-67853c63df94",
   "metadata": {},
   "source": [
    "# Separate the data for modelling"
   ]
  },
  {
   "cell_type": "code",
   "execution_count": 3,
   "id": "9ccd0a8c-3c97-4060-97d1-7fe38fe8160b",
   "metadata": {},
   "outputs": [],
   "source": [
    "X = data[['TV', 'Radio', 'Newspaper']]\n",
    "y = data['Sales']"
   ]
  },
  {
   "cell_type": "markdown",
   "id": "502d275d-bca4-48d9-a1dc-5c3cf8c7ef43",
   "metadata": {},
   "source": [
    "# Split the data"
   ]
  },
  {
   "cell_type": "code",
   "execution_count": 4,
   "id": "2deb1036-2928-47df-b970-15eb01de7075",
   "metadata": {},
   "outputs": [],
   "source": [
    "X_train, X_test, y_train, y_test = train_test_split(X, y, test_size=0.2, random_state=42)"
   ]
  },
  {
   "cell_type": "markdown",
   "id": "094f6c56-29e4-4508-95ff-1a72aff89636",
   "metadata": {
    "tags": []
   },
   "source": [
    "# Using the XFBoost regressor and train the model"
   ]
  },
  {
   "cell_type": "code",
   "execution_count": 5,
   "id": "52a3333b-53bf-464e-b950-c476d84a6953",
   "metadata": {},
   "outputs": [
    {
     "data": {
      "text/plain": [
       "XGBRegressor(base_score=None, booster=None, callbacks=None,\n",
       "             colsample_bylevel=None, colsample_bynode=None,\n",
       "             colsample_bytree=None, early_stopping_rounds=None,\n",
       "             enable_categorical=False, eval_metric=None, feature_types=None,\n",
       "             gamma=None, gpu_id=None, grow_policy=None, importance_type=None,\n",
       "             interaction_constraints=None, learning_rate=None, max_bin=None,\n",
       "             max_cat_threshold=None, max_cat_to_onehot=None,\n",
       "             max_delta_step=None, max_depth=None, max_leaves=None,\n",
       "             min_child_weight=None, missing=nan, monotone_constraints=None,\n",
       "             n_estimators=100, n_jobs=None, num_parallel_tree=None,\n",
       "             predictor=None, random_state=None, ...)"
      ]
     },
     "execution_count": 5,
     "metadata": {},
     "output_type": "execute_result"
    }
   ],
   "source": [
    "model = xgb.XGBRegressor()\n",
    "model.fit(X_train, y_train)"
   ]
  },
  {
   "cell_type": "markdown",
   "id": "9dbf2d16-8297-4ac3-b6a6-ae3dac3b24bf",
   "metadata": {},
   "source": [
    "# Making the predictions on the test set"
   ]
  },
  {
   "cell_type": "code",
   "execution_count": 6,
   "id": "3b418cf2-37ab-40a5-9681-d09daf26ee5c",
   "metadata": {},
   "outputs": [],
   "source": [
    "y_pred = model.predict(X_test)"
   ]
  },
  {
   "cell_type": "markdown",
   "id": "84107647-49b0-49a0-a343-bb563c649e3f",
   "metadata": {},
   "source": [
    "# Model evaluation"
   ]
  },
  {
   "cell_type": "code",
   "execution_count": 7,
   "id": "34784101-1f37-48ec-90df-9bb7a8235e43",
   "metadata": {},
   "outputs": [
    {
     "name": "stdout",
     "output_type": "stream",
     "text": [
      "Mean Squared Error: 0.5344679823352011\n",
      "R-squared: 0.983066947744656\n"
     ]
    }
   ],
   "source": [
    "mse = mean_squared_error(y_test, y_pred)\n",
    "r_squared = r2_score(y_test, y_pred)\n",
    "print('Mean Squared Error:', mse)\n",
    "print('R-squared:', r_squared)"
   ]
  },
  {
   "cell_type": "markdown",
   "id": "977f5185-221b-4025-aab9-5bd188e7e735",
   "metadata": {},
   "source": [
    "# Saving the prediction with the actual data"
   ]
  },
  {
   "cell_type": "code",
   "execution_count": 8,
   "id": "9583a226-6cfd-4693-96cb-f90e11fb4d9f",
   "metadata": {},
   "outputs": [],
   "source": [
    "predictions_df = pd.DataFrame({'Actual Sales': y_test, 'Predicted Sales': y_pred})"
   ]
  },
  {
   "cell_type": "code",
   "execution_count": 9,
   "id": "a5d8056b-ef65-4a67-85b5-309df8fd109c",
   "metadata": {},
   "outputs": [],
   "source": [
    "predictions_df.to_csv('sales_predictions.csv', index=False)"
   ]
  },
  {
   "cell_type": "markdown",
   "id": "e357f4b9-7d93-4baf-aaa5-29f1e2930ba5",
   "metadata": {},
   "source": [
    "# Plotting the actual vs predicted sales"
   ]
  },
  {
   "cell_type": "code",
   "execution_count": 10,
   "id": "fcea4b7a-fb38-4761-8d5c-02b408a6f04d",
   "metadata": {},
   "outputs": [
    {
     "data": {
      "image/png": "[encoded data removed]",
      "text/plain": [
       "<Figure size 432x288 with 1 Axes>"
      ]
     },
     "metadata": {
      "needs_background": "light"
     },
     "output_type": "display_data"
    }
   ],
   "source": [
    "plt.scatter(y_test, y_pred, alpha=0.7)\n",
    "plt.plot([min(y_test), max(y_test)], [min(y_test), max(y_test)], '--', color='red', linewidth=2)\n",
    "plt.xlabel('Actual Sales')\n",
    "plt.ylabel('Predicted Sales')\n",
    "plt.title('Actual vs. Predicted Sales')\n",
    "plt.show()"
   ]
  },
  {
   "cell_type": "markdown",
   "id": "6a19093b-cf04-488d-a492-340e2292d5ff",
   "metadata": {},
   "source": [
    "# Plotting the feature importance"
   ]
  },
  {
   "cell_type": "code",
   "execution_count": 11,
   "id": "0d9b6f56-3f16-47f8-8d47-9d17cf1ba2d0",
   "metadata": {},
   "outputs": [],
   "source": [
    "feature_importances = model.feature_importances_"
   ]
  },
  {
   "cell_type": "code",
   "execution_count": 12,
   "id": "63a5d8c7-c1c6-401b-a694-ef4558fa0074",
   "metadata": {},
   "outputs": [],
   "source": [
    "importances_df = pd.DataFrame({'Feature': X.columns, 'Importance': feature_importances})\n",
    "importances_df.sort_values(by='Importance', ascending=False, inplace=True)"
   ]
  },
  {
   "cell_type": "code",
   "execution_count": 13,
   "id": "11bf0de4-3904-4296-a799-cbf8f2769d6d",
   "metadata": {},
   "outputs": [
    {
     "data": {
      "image/png": "[encoded data removed]",
      "text/plain": [
       "<Figure size 432x288 with 1 Axes>"
      ]
     },
     "metadata": {
      "needs_background": "light"
     },
     "output_type": "display_data"
    }
   ],
   "source": [
    "plt.bar(importances_df['Feature'], importances_df['Importance'])\n",
    "plt.xlabel('Feature')\n",
    "plt.ylabel('Importance')\n",
    "plt.title('Feature Importances')\n",
    "plt.xticks(rotation=45)\n",
    "plt.show()"
   ]
  },
  {
   "cell_type": "code",
   "execution_count": null,
   "id": "8becb2ee-ff6e-47ec-9553-d61e585d3023",
   "metadata": {},
   "outputs": [],
   "source": []
  }
 ],
 "metadata": {
  "kernelspec": {
   "display_name": "Python 3 (ipykernel)",
   "language": "python",
   "name": "python3"
  },
  "language_info": {
   "codemirror_mode": {
    "name": "ipython",
    "version": 3
   },
   "file_extension": ".py",
   "mimetype": "text/x-python",
   "name": "python",
   "nbconvert_exporter": "python",
   "pygments_lexer": "ipython3",
   "version": "3.9.12"
  }
 },
 "nbformat": 4,
 "nbformat_minor": 5
}
